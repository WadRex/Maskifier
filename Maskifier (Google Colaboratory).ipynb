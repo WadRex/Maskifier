{
  "nbformat": 4,
  "nbformat_minor": 0,
  "metadata": {
    "accelerator": "GPU",
    "colab": {
      "name": "Maskifier (Google Colaboratory).ipynb",
      "provenance": [],
      "collapsed_sections": [
        "mNNh7CpmRiY7",
        "Grml1LAHRrrt",
        "q4vj25MSR8eF"
      ]
    },
    "kernelspec": {
      "display_name": "Python 3",
      "name": "python3"
    },
    "language_info": {
      "name": "python"
    }
  },
  "cells": [
    {
      "cell_type": "markdown",
      "metadata": {
        "id": "mNNh7CpmRiY7"
      },
      "source": [
        "# **1. Basic Setup**"
      ]
    },
    {
      "cell_type": "code",
      "metadata": {
        "id": "bq7OkKI423F4"
      },
      "source": [
        "#cloning repository\n",
        "!git clone https://github.com/WadRex/Maskifier.git"
      ],
      "execution_count": null,
      "outputs": []
    },
    {
      "cell_type": "code",
      "metadata": {
        "id": "fASXFzsx4Cph"
      },
      "source": [
        "import urllib.request\n",
        "\n",
        "#downloading .weights file\n",
        "urllib.request.urlretrieve('https://github.com/WadRex/Maskifier/releases/download/v1.0/yolov4_head.weights', 'Maskifier/YOLO/yolov4_head.weights')"
      ],
      "execution_count": null,
      "outputs": []
    },
    {
      "cell_type": "code",
      "metadata": {
        "id": "JUay43XB42wR"
      },
      "source": [
        "pip install -r '/content/Maskifier/requirements.txt'"
      ],
      "execution_count": null,
      "outputs": []
    },
    {
      "cell_type": "markdown",
      "metadata": {
        "id": "Grml1LAHRrrt"
      },
      "source": [
        "# **2. Webcam & YOLO Initialization**"
      ]
    },
    {
      "cell_type": "code",
      "metadata": {
        "id": "NH94NMrv90Cg"
      },
      "source": [
        "from IPython.display import display, Javascript\n",
        "from google.colab.output import eval_js\n",
        "from base64 import b64decode\n",
        "\n",
        "def take_photo(filename='photo.jpg', quality=0.8):\n",
        "  js = Javascript('''\n",
        "    async function takePhoto(quality) {\n",
        "      const div = document.createElement('div');\n",
        "      const capture = document.createElement('button');\n",
        "      capture.textContent = 'Capture';\n",
        "      div.appendChild(capture);\n",
        "\n",
        "      const video = document.createElement('video');\n",
        "      video.style.display = 'block';\n",
        "      const stream = await navigator.mediaDevices.getUserMedia({video: true});\n",
        "\n",
        "      document.body.appendChild(div);\n",
        "      div.appendChild(video);\n",
        "      video.srcObject = stream;\n",
        "      await video.play();\n",
        "\n",
        "      // Resize the output to fit the video element.\n",
        "      google.colab.output.setIframeHeight(document.documentElement.scrollHeight, true);\n",
        "\n",
        "      // Wait for Capture to be clicked.\n",
        "      await new Promise((resolve) => capture.onclick = resolve);\n",
        "\n",
        "      const canvas = document.createElement('canvas');\n",
        "      canvas.width = video.videoWidth;\n",
        "      canvas.height = video.videoHeight;\n",
        "      canvas.getContext('2d').drawImage(video, 0, 0);\n",
        "      stream.getVideoTracks()[0].stop();\n",
        "      div.remove();\n",
        "      return canvas.toDataURL('image/jpeg', quality);\n",
        "    }\n",
        "    ''')\n",
        "  display(js)\n",
        "  data = eval_js('takePhoto({})'.format(quality))\n",
        "  binary = b64decode(data.split(',')[1])\n",
        "  with open(filename, 'wb') as f:\n",
        "    f.write(binary)\n",
        "  return filename"
      ],
      "execution_count": null,
      "outputs": []
    },
    {
      "cell_type": "code",
      "metadata": {
        "id": "o_kswvnZ9xEx"
      },
      "source": [
        "import cv2\n",
        "import numpy as np\n",
        "from yolov4.tf import YOLOv4\n",
        "from google.colab.patches import cv2_imshow\n",
        "\n",
        "#yolo for head detection\n",
        "headyolo = YOLOv4()\n",
        "headyolo.config.parse_names('/content/Maskifier/YOLO/yolov4_head.names')\n",
        "headyolo.config.parse_cfg('/content/Maskifier/YOLO/yolov4_head.cfg')\n",
        "headyolo.make_model()\n",
        "headyolo.load_weights('/content/Maskifier/YOLO/yolov4_head.weights', weights_type='yolo')\n",
        "headyolo.summary(summary_type='yolo')\n",
        "headyolo.summary()"
      ],
      "execution_count": null,
      "outputs": []
    },
    {
      "cell_type": "markdown",
      "metadata": {
        "id": "q4vj25MSR8eF"
      },
      "source": [
        "# **3.a) Single Detection**"
      ]
    },
    {
      "cell_type": "code",
      "metadata": {
        "id": "15KH70j1SZk8"
      },
      "source": [
        "from IPython.display import display, Javascript\n",
        "from google.colab.output import eval_js\n",
        "from base64 import b64decode\n",
        "\n",
        "def take_photo(filename='photo.jpg', quality=0.8):\n",
        "  js = Javascript('''\n",
        "    async function takePhoto(quality) {\n",
        "      const div = document.createElement('div');\n",
        "      const capture = document.createElement('button');\n",
        "      capture.textContent = 'Capture';\n",
        "      div.appendChild(capture);\n",
        "\n",
        "      const video = document.createElement('video');\n",
        "      video.style.display = 'block';\n",
        "      const stream = await navigator.mediaDevices.getUserMedia({video: true});\n",
        "\n",
        "      document.body.appendChild(div);\n",
        "      div.appendChild(video);\n",
        "      video.srcObject = stream;\n",
        "      await video.play();\n",
        "\n",
        "      // Resize the output to fit the video element.\n",
        "      google.colab.output.setIframeHeight(document.documentElement.scrollHeight, true);\n",
        "\n",
        "      // Wait for Capture to be clicked.\n",
        "      await new Promise((resolve) => capture.onclick = resolve);\n",
        "\n",
        "      const canvas = document.createElement('canvas');\n",
        "      canvas.width = video.videoWidth;\n",
        "      canvas.height = video.videoHeight;\n",
        "      canvas.getContext('2d').drawImage(video, 0, 0);\n",
        "      stream.getVideoTracks()[0].stop();\n",
        "      div.remove();\n",
        "      return canvas.toDataURL('image/jpeg', quality);\n",
        "    }\n",
        "    ''')\n",
        "  display(js)\n",
        "  data = eval_js('takePhoto({})'.format(quality))\n",
        "  binary = b64decode(data.split(',')[1])\n",
        "  with open(filename, 'wb') as f:\n",
        "    f.write(binary)\n",
        "  return filename"
      ],
      "execution_count": null,
      "outputs": []
    },
    {
      "cell_type": "code",
      "metadata": {
        "id": "Yy9WUYgyJM9H"
      },
      "source": [
        "#where everything happens\n",
        "from IPython.display import Image\n",
        "try:\n",
        "  filename = take_photo()\n",
        "except Exception as err:\n",
        "  # Errors will be thrown if the user does not have a webcam or if they do not\n",
        "  # grant the page permission to access it.\n",
        "  print(str(err))\n",
        " \n",
        "#get image \n",
        "cam = cv2.imread('/content/photo.jpg')\n",
        "\n",
        "#get mask detection\n",
        "mask_pred_bboxes = headyolo.predict(cam, 0.5)        \n",
        "\n",
        "#preprocess mask detection\n",
        "height, width, _ = cam.shape\n",
        "mask_bboxes = mask_pred_bboxes * np.array([width, height, width, height, 1, 1])\n",
        "\n",
        "#draw detections\n",
        "for bbox in mask_bboxes:\n",
        "  #check if probability not NULL\n",
        "  if float(bbox[5]) > 0:\n",
        "  #define coordinates\n",
        "    y = int(bbox[1]) - int(bbox[3]) / int(2)\n",
        "    x = int(bbox[0]) - int(bbox[2]) / int(2)\n",
        "    h = int(bbox[3])\n",
        "    w = int(bbox[2]) \n",
        "\n",
        "    #normalize?\n",
        "    if y < 0:\n",
        "      y = 0\n",
        "    if x < 0:\n",
        "      x = 0    \n",
        "\n",
        "    #find masks\n",
        "    #not wearing mask\n",
        "    if int(bbox[4]) == 0:\n",
        "      print (\"not nice | confidence: \", bbox[5])              \n",
        "      cv2.rectangle(cam, (int(x),int(y)), (int(x+w),int(y+h)), (0,0,255), 10)                                           \n",
        "\n",
        "    #wearing mask\n",
        "    if int(bbox[4]) == 1:\n",
        "      print (\"nice | confidence: \", bbox[5])\n",
        "      cv2.rectangle(cam, (int(x),int(y)), (int(x+w),int(y+h)), (0,255,0), 10)        \n",
        "\n",
        "#show results\n",
        "cv2_imshow(cam)\n",
        "if cv2.waitKey(1) & 0xFF == ord(\"q\"):\n",
        "  cv2.destroyAllWindows()                             "
      ],
      "execution_count": null,
      "outputs": []
    },
    {
      "cell_type": "markdown",
      "metadata": {
        "id": "6dPW-C8oSC_y"
      },
      "source": [
        "# **3.b) Continuous Detection**"
      ]
    },
    {
      "cell_type": "code",
      "metadata": {
        "id": "DUtQk6LVSakm"
      },
      "source": [
        "from IPython.display import display, Javascript\n",
        "from google.colab.output import eval_js\n",
        "from base64 import b64decode\n",
        "\n",
        "def take_photo(filename='photo.jpg', quality=0.8):\n",
        "  js = Javascript('''\n",
        "    async function takePhoto(quality) {\n",
        "      const div = document.createElement('div');\n",
        "      const capture = document.createElement('button');\n",
        "      capture.textContent = 'Capture';\n",
        "      div.appendChild(capture);\n",
        "\n",
        "      const video = document.createElement('video');\n",
        "      video.style.display = 'block';\n",
        "      const stream = await navigator.mediaDevices.getUserMedia({video: true});\n",
        "\n",
        "      document.body.appendChild(div);\n",
        "      div.appendChild(video);\n",
        "      video.srcObject = stream;\n",
        "      await video.play();\n",
        "\n",
        "      // Resize the output to fit the video element.\n",
        "      google.colab.output.setIframeHeight(document.documentElement.scrollHeight, true);\n",
        "\n",
        "      // Wait for Capture to be clicked.\n",
        "      'await new Promise((resolve) => capture.onclick = resolve);'\n",
        "\n",
        "      const canvas = document.createElement('canvas');\n",
        "      canvas.width = video.videoWidth;\n",
        "      canvas.height = video.videoHeight;\n",
        "      canvas.getContext('2d').drawImage(video, 0, 0);\n",
        "      stream.getVideoTracks()[0].stop();\n",
        "      div.remove();\n",
        "      return canvas.toDataURL('image/jpeg', quality);\n",
        "    }\n",
        "    ''')\n",
        "  display(js)\n",
        "  data = eval_js('takePhoto({})'.format(quality))\n",
        "  binary = b64decode(data.split(',')[1])\n",
        "  with open(filename, 'wb') as f:\n",
        "    f.write(binary)\n",
        "  return filename"
      ],
      "execution_count": null,
      "outputs": []
    },
    {
      "cell_type": "code",
      "metadata": {
        "id": "taUSGswcPw9h"
      },
      "source": [
        "while True:\n",
        "  #where everything happens\n",
        "  from IPython.display import Image\n",
        "  try:\n",
        "    filename = take_photo()\n",
        "  except Exception as err:\n",
        "    # Errors will be thrown if the user does not have a webcam or if they do not\n",
        "    # grant the page permission to access it.\n",
        "    print(str(err))\n",
        " \n",
        "  #get image \n",
        "  cam = cv2.imread('/content/photo.jpg')\n",
        "\n",
        "  #get mask detection\n",
        "  mask_pred_bboxes = headyolo.predict(cam, 0.5)        \n",
        "\n",
        "  #preprocess mask detection\n",
        "  height, width, _ = cam.shape\n",
        "  mask_bboxes = mask_pred_bboxes * np.array([width, height, width, height, 1, 1])\n",
        "\n",
        "  #draw detections\n",
        "  for bbox in mask_bboxes:\n",
        "    #check if probability not NULL\n",
        "    if float(bbox[5]) > 0:\n",
        "    #define coordinates\n",
        "      y = int(bbox[1]) - int(bbox[3]) / int(2)\n",
        "      x = int(bbox[0]) - int(bbox[2]) / int(2)\n",
        "      h = int(bbox[3])\n",
        "      w = int(bbox[2]) \n",
        "\n",
        "      #normalize?\n",
        "      if y < 0:\n",
        "        y = 0\n",
        "      if x < 0:\n",
        "        x = 0    \n",
        "\n",
        "      #find masks\n",
        "      #not wearing mask\n",
        "      if int(bbox[4]) == 0:\n",
        "        print (\"not nice | confidence: \", bbox[5])              \n",
        "        cv2.rectangle(cam, (int(x),int(y)), (int(x+w),int(y+h)), (0,0,255), 10)                                           \n",
        "\n",
        "      #wearing mask\n",
        "      if int(bbox[4]) == 1:\n",
        "        print (\"nice | confidence: \", bbox[5])\n",
        "        cv2.rectangle(cam, (int(x),int(y)), (int(x+w),int(y+h)), (0,255,0), 10)        \n",
        "\n",
        "  #show results\n",
        "  import time\n",
        "  cv2_imshow(cam)\n",
        "  time.sleep(1)\n",
        "  if cv2.waitKey(1) & 0xFF == ord(\"q\"):\n",
        "    cv2.destroyAllWindows()                             "
      ],
      "execution_count": null,
      "outputs": []
    }
  ]
}